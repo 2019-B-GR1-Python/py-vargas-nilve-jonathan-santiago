{
 "cells": [
  {
   "cell_type": "code",
   "execution_count": 1,
   "metadata": {},
   "outputs": [
    {
     "data": {
      "text/plain": [
       "25"
      ]
     },
     "execution_count": 1,
     "metadata": {},
     "output_type": "execute_result"
    }
   ],
   "source": [
    "#funciones lambda: las iguala a algo y no tienen nombre\n",
    "def elevar_al_cuadrado(numero):\n",
    "    return numero*numero\n",
    "\n",
    "elevar_al_cuadrado(5)\n",
    "\n",
    "#escribir codigo para q cualquiera entienda..."
   ]
  },
  {
   "cell_type": "code",
   "execution_count": 3,
   "metadata": {},
   "outputs": [
    {
     "data": {
      "text/plain": [
       "144"
      ]
     },
     "execution_count": 3,
     "metadata": {},
     "output_type": "execute_result"
    }
   ],
   "source": [
    "#acortar funciones, para que no ocupe mucho espacio..\n",
    "#lambda palabra reservada\n",
    "#para cosas pequeñas se utiliza lambda. Si son cosas grandes se utiliza funciones\n",
    "elevar_al_cuadrado_lambda = lambda numero: numero*numero\n",
    "\n",
    "elevar_al_cuadrado_lambda (12)"
   ]
  },
  {
   "cell_type": "code",
   "execution_count": 6,
   "metadata": {},
   "outputs": [
    {
     "data": {
      "text/plain": [
       "'Mensaje: QUE TAL RAZA'"
      ]
     },
     "execution_count": 6,
     "metadata": {},
     "output_type": "execute_result"
    }
   ],
   "source": [
    "#funcion q imprima algo con lambda\n",
    "\n",
    "#imprimir_mensaje_lambda = lambda sms : print(f\"Mensaje: {sms}\")\n",
    "#imprimir_mensaje_lambda(\"QUE TAL RAZA\")\n",
    "\n",
    "imprimir_mensaje_lambda = lambda sms : (f\"Mensaje: {sms}\")\n",
    "imprimir_mensaje_lambda(\"QUE TAL RAZA\")"
   ]
  },
  {
   "cell_type": "code",
   "execution_count": 7,
   "metadata": {},
   "outputs": [
    {
     "data": {
      "text/plain": [
       "7"
      ]
     },
     "execution_count": 7,
     "metadata": {},
     "output_type": "execute_result"
    }
   ],
   "source": [
    "#suma de dos numeros. Recibe como entrada dos numeros\n",
    "suma_numeros_lambda = lambda x, y : x + y\n",
    "suma_numeros_lambda(5,2)"
   ]
  },
  {
   "cell_type": "code",
   "execution_count": 8,
   "metadata": {},
   "outputs": [],
   "source": [
    "#Clase que no tenga nada pero q exista la clase se utiliza \"pass\"\n",
    "class Nada:\n",
    "    pass\n"
   ]
  },
  {
   "cell_type": "code",
   "execution_count": 11,
   "metadata": {},
   "outputs": [
    {
     "name": "stdout",
     "output_type": "stream",
     "text": [
      "<__main__.Nada object at 0x00000208DCD58A58>\n",
      "<class '__main__.Nada'>\n"
     ]
    }
   ],
   "source": [
    "#instancia de la clase\n",
    "una_nada = Nada()\n",
    "print(una_nada)\n",
    "\n",
    "#tipo de dato\n",
    "\n",
    "print(type(una_nada))"
   ]
  },
  {
   "cell_type": "code",
   "execution_count": 13,
   "metadata": {},
   "outputs": [
    {
     "name": "stdout",
     "output_type": "stream",
     "text": [
      "Empezo el constructor\n",
      "None\n",
      "<__main__.Auto object at 0x00000208DD6A1358>\n"
     ]
    }
   ],
   "source": [
    "#clase auto\n",
    "#se debe inicializar las propiedades que vamos a ausar\n",
    "class Auto:\n",
    "    color = None\n",
    "    \n",
    "    def __init__(self):   #definir constructor (__init__). SELF = this\n",
    "        print(\"Empezo el constructor\")\n",
    "        print(self.color) #acceder al atributo\n",
    "        \n",
    "nuevo_Auto = Auto()\n",
    "print(nuevo_Auto)"
   ]
  },
  {
   "cell_type": "code",
   "execution_count": 15,
   "metadata": {},
   "outputs": [
    {
     "name": "stdout",
     "output_type": "stream",
     "text": [
      "Empezo el constructor\n",
      "None\n",
      "amazul\n"
     ]
    }
   ],
   "source": [
    "#clase auto\n",
    "#se debe inicializar las propiedades que vamos a ausar\n",
    "class Auto:\n",
    "    color = None\n",
    "    #constructor recibe parametro color.\n",
    "    def __init__(self,color):   #definir constructor (__init__). SELF = this\n",
    "        print(\"Empezo el constructor\")\n",
    "        print(self.color) #acceder al atributo\n",
    "        self.color = color\n",
    "        \n",
    "nuevo_Auto = Auto(\"amazul\")\n",
    "print(nuevo_Auto.color)"
   ]
  },
  {
   "cell_type": "code",
   "execution_count": 20,
   "metadata": {},
   "outputs": [
    {
     "name": "stdout",
     "output_type": "stream",
     "text": [
      "Empezo el constructor\n",
      "None\n",
      "Color: amazul\n",
      "Chasis: 1\n"
     ]
    }
   ],
   "source": [
    "#propiedad privada para los atrobutos va con __al inicio\n",
    "class Auto:\n",
    "    color = None\n",
    "    __numero_chasis = 1\n",
    "    \n",
    "    def __init__(self,color):   #definir constructor (__init__). SELF = this\n",
    "        print(\"Empezo el constructor\")\n",
    "        print(self.color) #acceder al atributo\n",
    "        self.color = color\n",
    "        \n",
    "    #funcion override\n",
    "    def __str__(self):\n",
    "        return (f\"Color: {self.color}\\nChasis: {self.__numero_chasis}\")\n",
    "        \n",
    "        \n",
    "nuevo_Auto = Auto(\"amazul\")\n",
    "print(nuevo_Auto)\n",
    "#print(nuevo_Auto.color)\n",
    "#print(nuevo_Auto._Auto__numero_chasis) #para atributos privados"
   ]
  },
  {
   "cell_type": "code",
   "execution_count": 50,
   "metadata": {},
   "outputs": [
    {
     "name": "stdout",
     "output_type": "stream",
     "text": [
      "Empezo el constructor\n",
      "None\n",
      "Color: amazul\n",
      "Chasis: 1\n",
      "<bound method Auto.numero_chasis1 of <__main__.Auto object at 0x00000208DD7C8940>>\n"
     ]
    }
   ],
   "source": [
    "class Auto:\n",
    "    color = None\n",
    "    __numero_chasis = 1\n",
    "    \n",
    "    def __init__(self,color):   #definir constructor (__init__). SELF = this\n",
    "        print(\"Empezo el constructor\")\n",
    "        print(self.color) #acceder al atributo\n",
    "        self.color = color\n",
    "        \n",
    "    #funcion override\n",
    "    def __str__(self):\n",
    "        return (f\"Color: {self.color}\\nChasis: {self.__numero_chasis}\")\n",
    "    \n",
    "    def numero_chasis1(self):\n",
    "        return self.__calcular_impuesto()\n",
    "    \n",
    "    #----funcion privada\n",
    "    def __calcular_impuesto():\n",
    "        return 14*self.__numero_chasis\n",
    "        \n",
    "nuevo_Auto = Auto(\"amazul\")\n",
    "print(nuevo_Auto)\n",
    "print (nuevo_Auto.numero_chasis1)"
   ]
  },
  {
   "cell_type": "code",
   "execution_count": 36,
   "metadata": {},
   "outputs": [],
   "source": [
    "#HERENCIA DE CLASES\n",
    "\n",
    "class BMW(Auto):\n",
    "    \n",
    "    def __init__(self, color = \"Blanco\"):\n",
    "        print(\"Inicializando BMW\")\n",
    "        super().__init__(color)\n",
    "        \n"
   ]
  },
  {
   "cell_type": "code",
   "execution_count": 37,
   "metadata": {},
   "outputs": [
    {
     "name": "stdout",
     "output_type": "stream",
     "text": [
      "Inicializando BMW\n",
      "Empezo el constructor\n",
      "None\n",
      "Color: Blanco\n",
      "Chasis: 1\n"
     ]
    }
   ],
   "source": [
    "carrito = BMW()\n",
    "print(carrito)"
   ]
  },
  {
   "cell_type": "code",
   "execution_count": 47,
   "metadata": {},
   "outputs": [
    {
     "data": {
      "text/plain": [
       "0.1111111111111111"
      ]
     },
     "execution_count": 47,
     "metadata": {},
     "output_type": "execute_result"
    }
   ],
   "source": [
    "#-------> FUNCIONES DENTRO DE FUNCIONES <------------\n",
    "def calculador (num_uno, num_dos, operacion):\n",
    "    def suma():\n",
    "        return num_uno + num_dos\n",
    "    def resta():\n",
    "        return num_uno - num_dos\n",
    "    def multiplicacion():\n",
    "        return num_uno * num_dos\n",
    "    def division():\n",
    "        return num_uno / num_dos\n",
    "    \n",
    "    #funcionamiento del switch\n",
    "    #utilizando con un diccionario\n",
    "    def opcion_seleccionada():\n",
    "        \"\"\"otra forma....\n",
    "        return = {\n",
    "            'suma': suma(),\n",
    "            'resta':resta(),\n",
    "            'multiplicacion':multiplicacion(),\n",
    "            'division':division()\n",
    "        }[operacion]\n",
    "        \n",
    "        \"\"\"\n",
    "        #es mas recomendable\n",
    "        opciones = {\n",
    "            'suma': suma(),\n",
    "            'resta':resta(),\n",
    "            'multiplicacion':multiplicacion(),\n",
    "            'division':division()\n",
    "        }\n",
    "        return opciones[operacion]      \n",
    "    return opcion_seleccionada()\n",
    "\n",
    "calculador(1,9,\"division\")"
   ]
  },
  {
   "cell_type": "code",
   "execution_count": null,
   "metadata": {},
   "outputs": [],
   "source": [
    "#entrada de datos. Tomar informacion. proyecto en pyton en la terminal. Programa de papas e hijos. Crear, borrar, actualizar, 4 atributos\n",
    "#guardar en un archivo.....\n",
    "input (\"dime tu edad\")"
   ]
  }
 ],
 "metadata": {
  "kernelspec": {
   "display_name": "Python 3",
   "language": "python",
   "name": "python3"
  },
  "language_info": {
   "codemirror_mode": {
    "name": "ipython",
    "version": 3
   },
   "file_extension": ".py",
   "mimetype": "text/x-python",
   "name": "python",
   "nbconvert_exporter": "python",
   "pygments_lexer": "ipython3",
   "version": "3.7.0"
  }
 },
 "nbformat": 4,
 "nbformat_minor": 2
}
