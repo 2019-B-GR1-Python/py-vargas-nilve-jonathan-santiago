{
 "cells": [
  {
   "cell_type": "code",
   "execution_count": 15,
   "metadata": {},
   "outputs": [
    {
     "name": "stdout",
     "output_type": "stream",
     "text": [
      "<class 'list'>\n",
      "['Buenas madrugadas\\n', 'ABC\\n', 'DEF\\n']\n",
      "Buenas madrugadas\n",
      "\n",
      "ABC\n",
      "\n",
      "DEF\n",
      "\n"
     ]
    }
   ],
   "source": [
    "#Archivos\n",
    "try:\n",
    "    \n",
    "    path = \"./Frases.txt\" #acceder a la info de un archivo\n",
    "    archivo_abierto = open(path)\n",
    "    \"\"\"\n",
    "    linea_uno = archivo_abierto.readline()\n",
    "    print(f\"L1: {linea_uno}\")\n",
    "    archivo_abierto.close()\n",
    "    \"\"\"\n",
    "    contenido = archivo_abierto.readlines() #read lineas devuelve una lista\n",
    "    print(type(contenido))\n",
    "    print(contenido)\n",
    "    \n",
    "    for linea in contenido:\n",
    "        print(linea)\n",
    "    \n",
    "except Exception as error:\n",
    "    print(\"Error\")    "
   ]
  },
  {
   "cell_type": "code",
   "execution_count": 14,
   "metadata": {},
   "outputs": [],
   "source": [
    "#escribir en un archivo\n",
    "\n",
    "try :\n",
    "    path = './Frases.txt'\n",
    "    archivo_escritura_abierto = open(path, mode=\"a\")\n",
    "    #a ->Append. se agrega hacia abajo las lineas.\n",
    "    #w ->Write (sobre escribe)\n",
    "\n",
    "    archivo_escritura_abierto.write(\"Buenas madrugadas\\n\")\n",
    "    archivo_escritura_abierto.writelines([\"ABC\\n\",\"DEF\\n\"]) #escribir varias lineas.\n",
    "    archivo_escritura_abierto.close()\n",
    "except Exception as error:\n",
    "    print(\"Error\")   \n"
   ]
  },
  {
   "cell_type": "code",
   "execution_count": null,
   "metadata": {},
   "outputs": [],
   "source": []
  }
 ],
 "metadata": {
  "kernelspec": {
   "display_name": "Python 3",
   "language": "python",
   "name": "python3"
  },
  "language_info": {
   "codemirror_mode": {
    "name": "ipython",
    "version": 3
   },
   "file_extension": ".py",
   "mimetype": "text/x-python",
   "name": "python",
   "nbconvert_exporter": "python",
   "pygments_lexer": "ipython3",
   "version": "3.7.0"
  }
 },
 "nbformat": 4,
 "nbformat_minor": 2
}
