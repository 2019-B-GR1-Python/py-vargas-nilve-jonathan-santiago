{
 "cells": [
  {
   "cell_type": "code",
   "execution_count": null,
   "metadata": {},
   "outputs": [],
   "source": [
    "##variables primitivas\n",
    "\n",
    "entero = 3\n",
    "decimal = 1.1\n",
    "nombre = \"Jonathan\"\n",
    "segundo_nombre = \"Santiago\"\n",
    "casado = False\n",
    "estudiante = True\n",
    "hijos = None ##null\n",
    " \n",
    "print (type (entero)) ##imprimir tipo de variables.. dejar dos espacios si se quiere escribir comentarios\n",
    "print (type (decimal))\n",
    "print (type (nombre))\n",
    "print (type (segundo_nombre))\n",
    "print (type (estudiante))\n",
    "print (type (hijos))  #NoneType\n",
    "\n",
    "texto = \"\"\"bloque de comentarios \"\"\"\n",
    "\n",
    "\n",
    "\n",
    "# Condicion (Boolean)\n",
    "# Truty\n",
    "# Falsy\n",
    "\n",
    "tuplas = ()\n",
    "listas = []\n",
    "diccionario = {} \n",
    "print(type(tuplas)) #tuple\n",
    "print(type(tuplas)) #list\n",
    "print(type(tuplas)) #dict\n",
    "\n",
    "##no existe llaves para separar codigo, se utiliza dos puntos\n",
    "\n",
    "\n",
    "\t\n",
    "\n",
    "\t\n",
    "if(0.00): ##falsy\n",
    "\tprint(\"Truty\")\n",
    "else:\n",
    "\tprint(\"Falsy\")\n",
    "\t\n",
    "\t\n",
    "if(0.01): ##falsy\n",
    "\tprint(\"Truty\")\n",
    "else:\n",
    "\tprint(\"Falsy\")\n",
    "\t\n",
    "if(None): ##falsy\n",
    "\tprint(\"Truty\")\n",
    "else:\n",
    "\tprint(\"Falsy\")\n",
    "\t\n",
    "\t\n",
    "##tuplas\n",
    "\n",
    "if(()): ## falsy\n",
    "\tprint(\"Truty\")\n",
    "else:\n",
    "\tprint(\"Falsy\")\n",
    "\t\n",
    "if((1,2)): ## truty\n",
    "\tprint(\"Truty\")\n",
    "else:\n",
    "\tprint(\"Falsy\")\n",
    "\t\n",
    "\t\n",
    "#listas\n",
    "\n",
    "if([]): ## falsy\n",
    "\tprint(\"Truty\")\n",
    "else:\n",
    "\tprint(\"Falsy\")\n",
    "\t\n",
    "if([a,b]): ## truty\n",
    "\tprint(\"Truty\")\n",
    "else:\n",
    "\tprint(\"Falsy\")\n",
    "\t\n",
    "\t\n",
    "##diccionario\n",
    "if({}): ## falsy\n",
    "\tprint(\"Truty\")\n",
    "else:\n",
    "\tprint(\"Falsy\")\n",
    "\n",
    "if({nombre:\"jonathan\"}): ## truty\n",
    "\tprint(\"Truty\")\n",
    "else:\n",
    "\tprint(\"Falsy\")\n",
    "\t"
   ]
  },
  {
   "cell_type": "code",
   "execution_count": 7,
   "metadata": {},
   "outputs": [],
   "source": [
    "arreglo = [1, 2, 3, 4, 5, 6, 7, 8, 9, 10]"
   ]
  },
  {
   "cell_type": "code",
   "execution_count": 16,
   "metadata": {},
   "outputs": [
    {
     "data": {
      "text/plain": [
       "[1, 2, 3, 4, 5, 6, 7, 8]"
      ]
     },
     "execution_count": 16,
     "metadata": {},
     "output_type": "execute_result"
    }
   ],
   "source": [
    "arreglo[:-2]"
   ]
  },
  {
   "cell_type": "code",
   "execution_count": 11,
   "metadata": {},
   "outputs": [
    {
     "data": {
      "text/plain": [
       "[1, 2, 3, 4, 5, 6, 7, 8, 9, 10]"
      ]
     },
     "execution_count": 11,
     "metadata": {},
     "output_type": "execute_result"
    }
   ],
   "source": [
    "##elementos de la posicion 2 a la 5  -----> Filtrar ([2, 5])\n",
    "arreglo[2:5]\n",
    "arreglo[2:]  #desde la posicion 2 hasta el final\n",
    "arreglo[:7]  #desde el inicio hasta la posicion 7\n",
    "arreglo[-1]  #el ultimo \n",
    "arreglo[2:-1]\n",
    "arreglo[-8:-1]\n",
    "arreglo[-9:]\n",
    "arreglo[:-2]\n",
    "arreglo[:]"
   ]
  },
  {
   "cell_type": "code",
   "execution_count": 17,
   "metadata": {},
   "outputs": [
    {
     "name": "stdout",
     "output_type": "stream",
     "text": [
      "<class 'bool'>\n",
      "True\n"
     ]
    }
   ],
   "source": [
    "##saber si esta un elemento deseado en un arreglo\n",
    "print(type(7 in arreglo))\n",
    "print(7 in arreglo)"
   ]
  },
  {
   "cell_type": "code",
   "execution_count": 18,
   "metadata": {},
   "outputs": [
    {
     "data": {
      "text/plain": [
       "10"
      ]
     },
     "execution_count": 18,
     "metadata": {},
     "output_type": "execute_result"
    }
   ],
   "source": [
    "#longitud del arreglo con la funcion len()\n",
    "len(arreglo)"
   ]
  },
  {
   "cell_type": "code",
   "execution_count": 35,
   "metadata": {},
   "outputs": [
    {
     "data": {
      "text/plain": [
       "[1, 2, 3, 4, 5, 6, 6]"
      ]
     },
     "execution_count": 35,
     "metadata": {},
     "output_type": "execute_result"
    }
   ],
   "source": [
    "#agregar algo al arreglo\n",
    "arreglo.append(6)\n",
    "arreglo[:]"
   ]
  },
  {
   "cell_type": "code",
   "execution_count": 37,
   "metadata": {},
   "outputs": [
    {
     "data": {
      "text/plain": [
       "[1, 2, 3, 4, 5]"
      ]
     },
     "execution_count": 37,
     "metadata": {},
     "output_type": "execute_result"
    }
   ],
   "source": [
    "#quitar elementos de un arreglo\n",
    "arreglo.pop(5)\n",
    "arreglo[:]"
   ]
  },
  {
   "cell_type": "code",
   "execution_count": 19,
   "metadata": {},
   "outputs": [
    {
     "data": {
      "text/plain": [
       "[1, 1.1, 2, 3, 4, 5, 6, 7, 8, 9, 10, 11]"
      ]
     },
     "execution_count": 19,
     "metadata": {},
     "output_type": "execute_result"
    }
   ],
   "source": [
    "#insertar en un lugar definido\n",
    "arreglo.insert(1,1.1)\n",
    "arreglo"
   ]
  },
  {
   "cell_type": "code",
   "execution_count": 24,
   "metadata": {},
   "outputs": [
    {
     "name": "stdout",
     "output_type": "stream",
     "text": [
      "1\n",
      "1.1\n",
      "2\n",
      "3\n",
      "4\n",
      "5\n",
      "6\n",
      "7\n",
      "8\n",
      "9\n",
      "10\n",
      "11\n",
      "0\n",
      "1\n",
      "2\n",
      "3\n",
      "4\n",
      "5\n",
      "6\n",
      "7\n",
      "8\n",
      "9\n"
     ]
    }
   ],
   "source": [
    "for numero in arreglo:\n",
    "    print(numero)\n",
    "\n",
    "#while\n",
    "contador = 0\n",
    "while contador<10:\n",
    "    print(contador)\n",
    "    contador = contador+1"
   ]
  },
  {
   "cell_type": "code",
   "execution_count": 25,
   "metadata": {},
   "outputs": [
    {
     "data": {
      "text/plain": [
       "(1, 2, 3, 4, 5)"
      ]
     },
     "execution_count": 25,
     "metadata": {},
     "output_type": "execute_result"
    }
   ],
   "source": [
    "#tuplas\n",
    "tupla_numeros = (1, 2, 3, 4, 5)\n",
    "tupla_numeros"
   ]
  },
  {
   "cell_type": "code",
   "execution_count": 27,
   "metadata": {},
   "outputs": [
    {
     "data": {
      "text/plain": [
       "True"
      ]
     },
     "execution_count": 27,
     "metadata": {},
     "output_type": "execute_result"
    }
   ],
   "source": [
    "#filtrar tuplas\n",
    "tupla_numeros[0:3]\n",
    "len(tupla_numeros)\n",
    "3 in tupla_numeros"
   ]
  },
  {
   "cell_type": "code",
   "execution_count": 46,
   "metadata": {},
   "outputs": [
    {
     "data": {
      "text/plain": [
       "False"
      ]
     },
     "execution_count": 46,
     "metadata": {},
     "output_type": "execute_result"
    }
   ],
   "source": [
    "#diccionarios... bota error por las variables que aun no han sido definidas.... SOLO DATOS PRIMITIVOS PERMITE \n",
    "nombre = \"Jonathan\"\n",
    "apellido = \"Santiago\"\n",
    "hijos = None\n",
    "casado = False\n",
    "\n",
    "jonathanDIC = {\n",
    "    \n",
    "    nombre: \"Jonathan\",\n",
    "    \"apellido\": \"Vargas\",\n",
    "    hijos: None, \n",
    "    casado: False,\n",
    "    'mascotas': [{12123: \"layki\"}]\n",
    "    \n",
    "}\n",
    "\n",
    "\n",
    "jonathanDIC.keys()\n",
    "\"apellido\" in jonathanDIC.keys()\n",
    "\"apellido\" in jonathanDIC.values()\n",
    "\n"
   ]
  },
  {
   "cell_type": "code",
   "execution_count": 50,
   "metadata": {},
   "outputs": [
    {
     "data": {
      "text/plain": [
       "False"
      ]
     },
     "execution_count": 50,
     "metadata": {},
     "output_type": "execute_result"
    }
   ],
   "source": [
    "#operador OR y AND\n",
    "1 == 1 or 2 == 3  #True\n",
    "1 == 1 and 2 == 3  #False"
   ]
  },
  {
   "cell_type": "code",
   "execution_count": 1,
   "metadata": {},
   "outputs": [
    {
     "name": "stdout",
     "output_type": "stream",
     "text": [
      "Falsy\n"
     ]
    }
   ],
   "source": [
    "if(\"\"): ##falsy\n",
    "\tprint(\"Truty\")\n",
    "else:\n",
    "\tprint(\"Falsy\")"
   ]
  },
  {
   "cell_type": "code",
   "execution_count": 2,
   "metadata": {},
   "outputs": [
    {
     "name": "stdout",
     "output_type": "stream",
     "text": [
      "Truty\n"
     ]
    }
   ],
   "source": [
    "if(\"a\"): ##truty\n",
    "\tprint(\"Truty\")\n",
    "else:\n",
    "\tprint(\"Falsy\")"
   ]
  },
  {
   "cell_type": "code",
   "execution_count": 3,
   "metadata": {},
   "outputs": [
    {
     "name": "stdout",
     "output_type": "stream",
     "text": [
      "Falsy\n"
     ]
    }
   ],
   "source": [
    "if(0): ##falsy\n",
    "\tprint(\"Truty\")\n",
    "else:\n",
    "\tprint(\"Falsy\")"
   ]
  },
  {
   "cell_type": "code",
   "execution_count": 6,
   "metadata": {},
   "outputs": [
    {
     "name": "stdout",
     "output_type": "stream",
     "text": [
      "Truty\n"
     ]
    }
   ],
   "source": [
    "\n",
    "if(1): ##truty\n",
    "    print(\"Truty\")\n",
    "else:\n",
    "    print(\"Falsy\")"
   ]
  },
  {
   "cell_type": "code",
   "execution_count": null,
   "metadata": {},
   "outputs": [],
   "source": []
  }
 ],
 "metadata": {
  "kernelspec": {
   "display_name": "Python 3",
   "language": "python",
   "name": "python3"
  },
  "language_info": {
   "codemirror_mode": {
    "name": "ipython",
    "version": 3
   },
   "file_extension": ".py",
   "mimetype": "text/x-python",
   "name": "python",
   "nbconvert_exporter": "python",
   "pygments_lexer": "ipython3",
   "version": "3.7.0"
  }
 },
 "nbformat": 4,
 "nbformat_minor": 2
}
