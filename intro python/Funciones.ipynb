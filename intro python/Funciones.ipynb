{
 "cells": [
  {
   "cell_type": "code",
   "execution_count": 4,
   "metadata": {},
   "outputs": [
    {
     "name": "stdout",
     "output_type": "stream",
     "text": [
      "Hola Roger \n",
      "Hola Roger \n"
     ]
    },
    {
     "data": {
      "text/plain": [
       "NoneType"
      ]
     },
     "execution_count": 4,
     "metadata": {},
     "output_type": "execute_result"
    }
   ],
   "source": [
    "#Funciones se agrupan en dos grupos\n",
    "    #los que retornan algo\n",
    "    #las que no retornan nada.\n",
    "    \n",
    "# --> nombre de la funcion separado por guiones bajos <---   \n",
    "\n",
    "def hola_mundo():\n",
    "    print(\"Hola Roger \")\n",
    "hola_mundo()\n",
    "\n",
    "#funcion vacia. q devuelve ?\n",
    "type(hola_mundo())"
   ]
  },
  {
   "cell_type": "code",
   "execution_count": 8,
   "metadata": {},
   "outputs": [
    {
     "name": "stdout",
     "output_type": "stream",
     "text": [
      "suma 3\n"
     ]
    }
   ],
   "source": [
    "#Funcion que sume dos numeros\n",
    "def sumar_dos_numeros(num_uno, num_dos): #funcion con argumentos requeridos......\n",
    "    return num_uno + num_dos\n",
    "suma = sumar_dos_numeros(1,2)\n",
    "\n",
    "#Las funciones son medios especiales en python\n",
    "\n",
    "print(f\"suma {suma}\") #templeString. la \"f\" es para ingresar cualquier cosa. "
   ]
  },
  {
   "cell_type": "code",
   "execution_count": 11,
   "metadata": {},
   "outputs": [
    {
     "name": "stdout",
     "output_type": "stream",
     "text": [
      "EPN\n",
      "ESPE\n"
     ]
    }
   ],
   "source": [
    "#funcion con argumentos opcionales\n",
    "\n",
    "def imprimir_universidad (nombre = 'EPN'):\n",
    "    print(f\"{nombre}\")\n",
    "    \n",
    "imprimir_universidad()\n",
    "imprimir_universidad('ESPE') #MANDAR PARAMETROS AUNQ NO LOS NECESITE TAMBIEN NOS HACE CASO....\n"
   ]
  },
  {
   "cell_type": "code",
   "execution_count": 4,
   "metadata": {},
   "outputs": [
    {
     "name": "stdout",
     "output_type": "stream",
     "text": [
      "color: Cafe\n",
      "Placa: mns-53\n",
      "Caballos de fuerza: 5200\n",
      "Año: 2003\n"
     ]
    }
   ],
   "source": [
    "def imprimir_carro (color, placa, hp, anio):\n",
    "    print(f\"color: {color}\")\n",
    "    print(f\"Placa: {placa}\")\n",
    "    print(f\"Caballos de fuerza: {hp}\")\n",
    "    print(f\"Año: {anio}\")\n",
    "    \n",
    "#imprimir_carro('plata','5','400','2019')\n",
    "\n",
    "#parametros nombrados. omitir el orden de las cosas q yo quiero enviar\n",
    "#imprimir_carro(anio = '2005',color ='plata',placa = '4',hp = '3500')\n",
    "\n",
    "#combinacion de parametros nombrados y requeridos\n",
    "#parametros posicionales. el orden correcto de los parametros de entrada\n",
    "imprimir_carro(\"Cafe\",\"mns-53\",anio = 2003, hp = 5200)\n",
    "\n",
    "#REGLAS\n",
    "    #mandar todos los parametros requeridos. Siempre\n",
    "    #Hay un orden de los parametros..Primero van los requeridos luego los opcionales \n",
    "    #si ya envia un parametro nombrado, los parametros q falten de enviarse van a tener q ser nombrados.\n"
   ]
  },
  {
   "cell_type": "code",
   "execution_count": 5,
   "metadata": {},
   "outputs": [
    {
     "name": "stdout",
     "output_type": "stream",
     "text": [
      "<class 'int'>\n",
      "<class 'tuple'>\n"
     ]
    }
   ],
   "source": [
    "#Suma de infinitos numeros en una funcion  ....>\n",
    "#Parametros infinitos..\n",
    "#definicion de parametros infinitos. es con *\n",
    "def sumar_numeros(primer_numero,*numeros):\n",
    "    print(type(primer_numero))\n",
    "    print(type(numeros))\n",
    "    \n",
    "sumar_numeros(1,2)\n"
   ]
  },
  {
   "cell_type": "code",
   "execution_count": 13,
   "metadata": {},
   "outputs": [
    {
     "data": {
      "text/plain": [
       "6"
      ]
     },
     "execution_count": 13,
     "metadata": {},
     "output_type": "execute_result"
    }
   ],
   "source": [
    "def sumar_numeros(primer_numero,*numeros):\n",
    "#def sumar_numeros(*numeros, primer_numero):   \n",
    "#def sumar_numeros(*numeros, primer_numero, *tuplas):\n",
    "       \n",
    "    longitud = len(numeros)\n",
    "    if (longitud == 0):\n",
    "        return primer_numero\n",
    "    else:\n",
    "        suma = 0 + primer_numero\n",
    "        for numero in numeros:\n",
    "            suma = suma +numero\n",
    "        return suma\n",
    "\n",
    " #poner los parametros infinitos al final   \n",
    "#no se puede mandar dos parametros infinitos...\n",
    "sumar_numeros(1,5) #muestra el error, se debe mandar el primer_numero nombrado\n",
    "\n",
    "\n"
   ]
  },
  {
   "cell_type": "code",
   "execution_count": 32,
   "metadata": {},
   "outputs": [
    {
     "name": "stdout",
     "output_type": "stream",
     "text": [
      "<class 'dict'>\n",
      "{'tiempo_espera': 10, 'conexiones': 55}\n"
     ]
    }
   ],
   "source": [
    "#imprimir config\n",
    "#orden de los parametros: infinitos y al final key_word_arguments\n",
    "#key_word_arguments = kwargs, en otras documentaciones.\n",
    "def imprimir_configuracion (nombre, valor = 10, **key_word_arguments):\n",
    "    print(type(key_word_arguments))\n",
    "    print(key_word_arguments)\n",
    "imprimir_configuracion(\"config_1\",valor = 20,tiempo_espera = 10, conexiones = 55)"
   ]
  },
  {
   "cell_type": "code",
   "execution_count": null,
   "metadata": {},
   "outputs": [],
   "source": []
  }
 ],
 "metadata": {
  "kernelspec": {
   "display_name": "Python 3",
   "language": "python",
   "name": "python3"
  },
  "language_info": {
   "codemirror_mode": {
    "name": "ipython",
    "version": 3
   },
   "file_extension": ".py",
   "mimetype": "text/x-python",
   "name": "python",
   "nbconvert_exporter": "python",
   "pygments_lexer": "ipython3",
   "version": "3.7.0"
  }
 },
 "nbformat": 4,
 "nbformat_minor": 2
}
