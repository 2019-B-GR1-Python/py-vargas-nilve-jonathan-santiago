{
 "cells": [
  {
   "cell_type": "code",
   "execution_count": 1,
   "metadata": {},
   "outputs": [],
   "source": [
    "import numpy as np"
   ]
  },
  {
   "cell_type": "code",
   "execution_count": 2,
   "metadata": {},
   "outputs": [],
   "source": [
    "paises_uno = ('Ecuadro', 'USA', 'Cuba', 'Venezuela')"
   ]
  },
  {
   "cell_type": "code",
   "execution_count": 3,
   "metadata": {},
   "outputs": [],
   "source": [
    "paises_dos = ('Brasil', 'China', 'Japon', 'Mexico') "
   ]
  },
  {
   "cell_type": "code",
   "execution_count": 5,
   "metadata": {},
   "outputs": [
    {
     "data": {
      "text/plain": [
       "array([['Ecuadro', 'USA', 'Cuba', 'Venezuela'],\n",
       "       ['Brasil', 'China', 'Japon', 'Mexico']], dtype='<U9')"
      ]
     },
     "execution_count": 5,
     "metadata": {},
     "output_type": "execute_result"
    }
   ],
   "source": [
    "#arreglo de dos dimensiones. arreglo con arreglos\n",
    "arreglo_paises_2d = np.array([paises_uno, paises_dos])\n",
    "arreglo_paises_2d"
   ]
  },
  {
   "cell_type": "code",
   "execution_count": 7,
   "metadata": {},
   "outputs": [
    {
     "data": {
      "text/plain": [
       "(2, 4)"
      ]
     },
     "execution_count": 7,
     "metadata": {},
     "output_type": "execute_result"
    }
   ],
   "source": [
    "#dimensiones\n",
    "arreglo_paises_2d.shape"
   ]
  },
  {
   "cell_type": "code",
   "execution_count": 11,
   "metadata": {},
   "outputs": [
    {
     "data": {
      "text/plain": [
       "array(['Ecuadro', 'USA', 'Cuba', 'Venezuela', 'Brasil', 'China', 'Japon',\n",
       "       'Mexico'], dtype='<U9')"
      ]
     },
     "execution_count": 11,
     "metadata": {},
     "output_type": "execute_result"
    }
   ],
   "source": [
    "arreglo_paises_2d.reshape(1,8)\n",
    "\n",
    "#flatten. aplanar.. dimension de 1 fila y n columnas\n",
    "arreglo_paises_2d.flatten()"
   ]
  },
  {
   "cell_type": "code",
   "execution_count": 12,
   "metadata": {},
   "outputs": [
    {
     "data": {
      "text/plain": [
       "array([[['Ecuadro', 'USA'],\n",
       "        ['Cuba', 'Venezuela']],\n",
       "\n",
       "       [['Brasil', 'China'],\n",
       "        ['Japon', 'Mexico']]], dtype='<U9')"
      ]
     },
     "execution_count": 12,
     "metadata": {},
     "output_type": "execute_result"
    }
   ],
   "source": [
    "arreglo_paises_2d.flatten().reshape(2,2,2)"
   ]
  },
  {
   "cell_type": "code",
   "execution_count": 13,
   "metadata": {},
   "outputs": [
    {
     "data": {
      "text/plain": [
       "array([['Ecuadro', 'USA'],\n",
       "       ['Cuba', 'Venezuela'],\n",
       "       ['Brasil', 'China'],\n",
       "       ['Japon', 'Mexico']], dtype='<U9')"
      ]
     },
     "execution_count": 13,
     "metadata": {},
     "output_type": "execute_result"
    }
   ],
   "source": [
    "arreglo_paises_2d.flatten().reshape(4\n",
    "                                   ,-1 #llename con lo que puedas. comodin para cualquier dimension\n",
    "                                   )"
   ]
  },
  {
   "cell_type": "code",
   "execution_count": 14,
   "metadata": {},
   "outputs": [
    {
     "data": {
      "text/plain": [
       "array([['Ecuadro', 'USA', 'Cuba', 'Venezuela'],\n",
       "       ['Brasil', 'China', 'Japon', 'Mexico']], dtype='<U9')"
      ]
     },
     "execution_count": 14,
     "metadata": {},
     "output_type": "execute_result"
    }
   ],
   "source": [
    "arreglo_paises_2d.flatten().reshape(-1\n",
    "                                   ,4 #llename con lo que puedas. comodin para cualquier dimension\n",
    "                                   )"
   ]
  },
  {
   "cell_type": "code",
   "execution_count": 15,
   "metadata": {},
   "outputs": [
    {
     "data": {
      "text/plain": [
       "array([[['Ecuadro', 'USA'],\n",
       "        ['Cuba', 'Venezuela']],\n",
       "\n",
       "       [['Brasil', 'China'],\n",
       "        ['Japon', 'Mexico']]], dtype='<U9')"
      ]
     },
     "execution_count": 15,
     "metadata": {},
     "output_type": "execute_result"
    }
   ],
   "source": [
    "arreglo_paises_2d.flatten().reshape(2\n",
    "                                   ,2,\n",
    "                                    -1#llename con lo que puedas. comodin para cualquier dimension\n",
    "                                   )"
   ]
  },
  {
   "cell_type": "code",
   "execution_count": 16,
   "metadata": {},
   "outputs": [
    {
     "data": {
      "text/plain": [
       "array([[['Ecuadro', 'USA'],\n",
       "        ['Cuba', 'Venezuela']],\n",
       "\n",
       "       [['Brasil', 'China'],\n",
       "        ['Japon', 'Mexico']]], dtype='<U9')"
      ]
     },
     "execution_count": 16,
     "metadata": {},
     "output_type": "execute_result"
    }
   ],
   "source": [
    "arreglo_paises_2d.flatten().reshape(2\n",
    "                                   ,-1, #llename con lo que puedas. comodin para cualquier dimension\n",
    "                                    2\n",
    "                                   )"
   ]
  },
  {
   "cell_type": "code",
   "execution_count": 20,
   "metadata": {},
   "outputs": [
    {
     "name": "stdout",
     "output_type": "stream",
     "text": [
      "[['Ecuadro' 'USA' 'Cuba' 'Venezuela']\n",
      " ['Brasil' 'China' 'Japon' 'Mexico']]\n",
      "(2, 4)\n",
      "[['Ecuadro' 'Brasil']\n",
      " ['USA' 'China']\n",
      " ['Cuba' 'Japon']\n",
      " ['Venezuela' 'Mexico']]\n",
      "(4, 2)\n"
     ]
    }
   ],
   "source": [
    "print(arreglo_paises_2d)\n",
    "print(arreglo_paises_2d.shape)\n",
    "print(arreglo_paises_2d.T)\n",
    "print(arreglo_paises_2d.T.shape)"
   ]
  },
  {
   "cell_type": "code",
   "execution_count": 21,
   "metadata": {},
   "outputs": [
    {
     "data": {
      "text/plain": [
       "[array([['Ecuadro', 'USA', 'Cuba', 'Venezuela']], dtype='<U9'),\n",
       " array([['Brasil', 'China', 'Japon', 'Mexico']], dtype='<U9')]"
      ]
     },
     "execution_count": 21,
     "metadata": {},
     "output_type": "execute_result"
    }
   ],
   "source": [
    "# dividir al arreglo de paises en dos arreglos. con la funcion split\n",
    "#dividi el arreglo en dos partes iguales\n",
    "\n",
    "np.split(arreglo_paises_2d, 2)\n"
   ]
  },
  {
   "cell_type": "code",
   "execution_count": 23,
   "metadata": {},
   "outputs": [
    {
     "data": {
      "text/plain": [
       "[array(['Ecuadro', 'USA'], dtype='<U9'),\n",
       " array(['Cuba', 'Venezuela'], dtype='<U9'),\n",
       " array(['Brasil', 'China'], dtype='<U9'),\n",
       " array(['Japon', 'Mexico'], dtype='<U9')]"
      ]
     },
     "execution_count": 23,
     "metadata": {},
     "output_type": "execute_result"
    }
   ],
   "source": [
    "np.split(arreglo_paises_2d.flatten(), 4)"
   ]
  },
  {
   "cell_type": "code",
   "execution_count": 24,
   "metadata": {},
   "outputs": [
    {
     "data": {
      "text/plain": [
       "[array(['Ecuadro'], dtype='<U9'),\n",
       " array(['USA'], dtype='<U9'),\n",
       " array(['Cuba'], dtype='<U9'),\n",
       " array(['Venezuela'], dtype='<U9'),\n",
       " array(['Brasil'], dtype='<U9'),\n",
       " array(['China'], dtype='<U9'),\n",
       " array(['Japon'], dtype='<U9'),\n",
       " array(['Mexico'], dtype='<U9')]"
      ]
     },
     "execution_count": 24,
     "metadata": {},
     "output_type": "execute_result"
    }
   ],
   "source": [
    "np.split(arreglo_paises_2d.flatten(), 8)"
   ]
  },
  {
   "cell_type": "code",
   "execution_count": 26,
   "metadata": {},
   "outputs": [
    {
     "data": {
      "text/plain": [
       "[array(['Ecuadro'], dtype='<U9'),\n",
       " array(['USA', 'Cuba'], dtype='<U9'),\n",
       " array(['Venezuela', 'Brasil', 'China'], dtype='<U9'),\n",
       " array(['Japon'], dtype='<U9'),\n",
       " array(['Mexico'], dtype='<U9')]"
      ]
     },
     "execution_count": 26,
     "metadata": {},
     "output_type": "execute_result"
    }
   ],
   "source": [
    "#dividir el arreglo en partes no iguales. se le manda un arreglo de los slicing que quiero que haga\n",
    "\n",
    "np.split(arreglo_paises_2d.flatten(),[1\n",
    "                                      ,\n",
    "                                      3, #del 1 - 3\n",
    "                                      6, #del 3- 6\n",
    "                                      7]) # 6 - 7\n",
    "                                        # en el ultimo todos los que falta"
   ]
  },
  {
   "cell_type": "code",
   "execution_count": 27,
   "metadata": {},
   "outputs": [
    {
     "data": {
      "text/plain": [
       "array([['Ecuadro', 'USA', 'Cuba', 'Venezuela'],\n",
       "       ['Brasil', 'China', 'Japon', 'Mexico']], dtype='<U9')"
      ]
     },
     "execution_count": 27,
     "metadata": {},
     "output_type": "execute_result"
    }
   ],
   "source": [
    "arreglo_paises_2d"
   ]
  },
  {
   "cell_type": "code",
   "execution_count": 31,
   "metadata": {},
   "outputs": [
    {
     "name": "stdout",
     "output_type": "stream",
     "text": [
      "[['Ecuadro']\n",
      " ['Brasil']]\n",
      "[['USA']\n",
      " ['China']]\n",
      "[['Cuba']\n",
      " ['Japon']]\n",
      "[['Venezuela']\n",
      " ['Mexico']]\n"
     ]
    }
   ],
   "source": [
    "#split horizontal\n",
    "arr1, arr2, arr3, arr4 = np.hsplit(arreglo_paises_2d,4)\n",
    "\n",
    "print(arr1)\n",
    "print(arr2)\n",
    "print(arr3)\n",
    "print(arr4)"
   ]
  },
  {
   "cell_type": "code",
   "execution_count": 33,
   "metadata": {},
   "outputs": [
    {
     "name": "stdout",
     "output_type": "stream",
     "text": [
      "[['Ecuadro']\n",
      " ['Brasil']]\n",
      "[['USA']\n",
      " ['China']]\n"
     ]
    }
   ],
   "source": [
    "#split vertical\n",
    "np.vsplit(arreglo_paises_2d, 2) # arreglo de 4 elementos\n",
    "print(arr1)\n",
    "print(arr2)"
   ]
  },
  {
   "cell_type": "code",
   "execution_count": 34,
   "metadata": {},
   "outputs": [
    {
     "name": "stdout",
     "output_type": "stream",
     "text": [
      "mama\n",
      "papa\n",
      "hijos\n"
     ]
    }
   ],
   "source": [
    "a, b, c = ['mama', 'papa', 'hijos']\n",
    "print(a)\n",
    "print(b)\n",
    "print(c)"
   ]
  },
  {
   "cell_type": "code",
   "execution_count": null,
   "metadata": {},
   "outputs": [],
   "source": []
  }
 ],
 "metadata": {
  "kernelspec": {
   "display_name": "Python 3",
   "language": "python",
   "name": "python3"
  },
  "language_info": {
   "codemirror_mode": {
    "name": "ipython",
    "version": 3
   },
   "file_extension": ".py",
   "mimetype": "text/x-python",
   "name": "python",
   "nbconvert_exporter": "python",
   "pygments_lexer": "ipython3",
   "version": "3.7.0"
  }
 },
 "nbformat": 4,
 "nbformat_minor": 2
}
