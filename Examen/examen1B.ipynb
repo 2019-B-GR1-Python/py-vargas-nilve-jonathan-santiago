{
 "cells": [
  {
   "cell_type": "code",
   "execution_count": 2,
   "metadata": {},
   "outputs": [],
   "source": [
    " import numpy as np"
   ]
  },
  {
   "cell_type": "code",
   "execution_count": 3,
   "metadata": {},
   "outputs": [
    {
     "data": {
      "text/plain": [
       "array([0., 0., 0., 0., 0., 0., 0., 0., 0., 0.])"
      ]
     },
     "execution_count": 3,
     "metadata": {},
     "output_type": "execute_result"
    }
   ],
   "source": [
    "#2. crear un vector de tamaño 10\n",
    "ceros = np.zeros(10)\n",
    "ceros"
   ]
  },
  {
   "cell_type": "code",
   "execution_count": 4,
   "metadata": {},
   "outputs": [
    {
     "data": {
      "text/plain": [
       "array([0., 0., 0., 0., 0., 1., 0., 0., 0., 0.])"
      ]
     },
     "execution_count": 4,
     "metadata": {},
     "output_type": "execute_result"
    }
   ],
   "source": [
    "#3.\n",
    "ceros_uno = np.zeros(10)\n",
    "ceros_uno[5] = 1\n",
    "ceros_uno"
   ]
  },
  {
   "cell_type": "code",
   "execution_count": 5,
   "metadata": {},
   "outputs": [
    {
     "name": "stdout",
     "output_type": "stream",
     "text": [
      "[ 0  1  2  3  4  5  6  7  8  9 10 11 12 13 14 15 16 17 18 19 20 21 22 23\n",
      " 24 25 26 27 28 29 30 31 32 33 34 35 36 37 38 39 40 41 42 43 44 45 46 47\n",
      " 48 49]\n",
      "\n",
      "\n",
      "[49 48 47 46 45 44 43 42 41 40 39 38 37 36 35 34 33 32 31 30 29 28 27 26\n",
      " 25 24 23 22 21 20 19 18 17 16 15 14 13 12 11 10  9  8  7  6  5  4  3  2\n",
      "  1  0]\n"
     ]
    }
   ],
   "source": [
    "#4. \n",
    "vector_50 = np.arange(50)\n",
    "print(f\"{vector_50}\\n\\n\")\n",
    "print(vector_50[::-1])"
   ]
  },
  {
   "cell_type": "code",
   "execution_count": 6,
   "metadata": {},
   "outputs": [
    {
     "data": {
      "text/plain": [
       "array([[0, 1, 2],\n",
       "       [3, 4, 5],\n",
       "       [6, 7, 8]])"
      ]
     },
     "execution_count": 6,
     "metadata": {},
     "output_type": "execute_result"
    }
   ],
   "source": [
    "#5.\n",
    "vector_8 = np.arange(9)\n",
    "vector_8.reshape(3,3)"
   ]
  },
  {
   "cell_type": "code",
   "execution_count": 9,
   "metadata": {},
   "outputs": [
    {
     "data": {
      "text/plain": [
       "array([], shape=(10, 0, 1, 2, 3, 4, 5, 6, 7, 8, 9), dtype=int32)"
      ]
     },
     "execution_count": 9,
     "metadata": {},
     "output_type": "execute_result"
    }
   ],
   "source": [
    "#6.\n",
    "a = np.arange(10)\n",
    "np.indices(a)"
   ]
  },
  {
   "cell_type": "code",
   "execution_count": 10,
   "metadata": {},
   "outputs": [
    {
     "data": {
      "text/plain": [
       "array([[1., 0., 0.],\n",
       "       [0., 1., 0.],\n",
       "       [0., 0., 1.]])"
      ]
     },
     "execution_count": 10,
     "metadata": {},
     "output_type": "execute_result"
    }
   ],
   "source": [
    "#7.\n",
    "matriz_identidad = np.eye(3)\n",
    "matriz_identidad"
   ]
  },
  {
   "cell_type": "code",
   "execution_count": 11,
   "metadata": {},
   "outputs": [
    {
     "data": {
      "text/plain": [
       "array([[[ 8,  0,  7],\n",
       "        [18, 12, 19],\n",
       "        [18,  2, 14]],\n",
       "\n",
       "       [[ 5, 18, 15],\n",
       "        [ 1, 19, 16],\n",
       "        [ 2,  0,  4]],\n",
       "\n",
       "       [[16,  1, 16],\n",
       "        [17,  0, 17],\n",
       "        [13, 10, 17]]])"
      ]
     },
     "execution_count": 11,
     "metadata": {},
     "output_type": "execute_result"
    }
   ],
   "source": [
    "#8.\n",
    "matriz_random = arreglo_random = np.random.randint(\n",
    "    0, \n",
    "    20,\n",
    "    27 \n",
    ")\n",
    "matriz_random.reshape(3,3,3)"
   ]
  },
  {
   "cell_type": "code",
   "execution_count": 12,
   "metadata": {},
   "outputs": [
    {
     "name": "stdout",
     "output_type": "stream",
     "text": [
      "[[45 21 65 92  1 48 99 89 86 21]\n",
      " [98 57 65 49 27 72 19 61 12 16]\n",
      " [19 16 70 38 42 78 85  9 54 48]\n",
      " [94  4 53 92 93 10 92 87  8 49]\n",
      " [82 30 81 50 16 77 36 44 84 41]\n",
      " [88 85 36 59 50 88 58 53 49 88]\n",
      " [86 84 60 62 47 53 90 37 22 59]\n",
      " [16 66 75 65 61 11 29 81 76 19]\n",
      " [85 11 60 98 41 57 13 32 27 96]\n",
      " [15  6 44 55 46 84 30 71 82  2]]\n",
      "\n",
      "max: 99\n",
      "min: 1\n"
     ]
    }
   ],
   "source": [
    "#9 \n",
    "matriz_10 = arreglo_random = np.random.randint(\n",
    "    0, \n",
    "    100,\n",
    "    100 \n",
    ")\n",
    "\n",
    "print(matriz_10.reshape(10,10))\n",
    "print(f\"\\nmax: {np.max(matriz_10)}\")\n",
    "print(f\"min: {np.min(matriz_10)}\")"
   ]
  },
  {
   "cell_type": "code",
   "execution_count": null,
   "metadata": {},
   "outputs": [],
   "source": [
    "#10\n",
    "\n",
    "from PIL import Image\n",
    "photo = Image.open('minio.jpg') #your image\n",
    "photo = photo.convert('RGB')\n",
    "\n",
    "width = photo.size[0] #define W and H\n",
    "height = photo.size[1]\n",
    "\n",
    "for y in range(0, height): #each pixel has coordinates\n",
    "    row = \"\"\n",
    "    for x in range(0, width):\n",
    "\n",
    "        RGB = photo.getpixel((x,y))\n",
    "        R,G,B = RGB  #now you can use the RGB value\n",
    "        print(RGB)"
   ]
  },
  {
   "cell_type": "code",
   "execution_count": 24,
   "metadata": {},
   "outputs": [
    {
     "name": "stdout",
     "output_type": "stream",
     "text": [
      "Serie Lista\n",
      "0     a\n",
      "1     b\n",
      "2     c\n",
      "3     d\n",
      "4     e\n",
      "5     f\n",
      "6     g\n",
      "7     h\n",
      "8     i\n",
      "9     j\n",
      "10    k\n",
      "11    l\n",
      "12    m\n",
      "13    n\n",
      "14    o\n",
      "15    p\n",
      "16    q\n",
      "17    r\n",
      "18    s\n",
      "19    t\n",
      "20    u\n",
      "21    v\n",
      "22    w\n",
      "23    x\n",
      "24    y\n",
      "25    z\n",
      "dtype: object\n",
      "Serie Arreglo\n",
      "0      0\n",
      "1      1\n",
      "2      2\n",
      "3      3\n",
      "4      4\n",
      "5      5\n",
      "6      6\n",
      "7      7\n",
      "8      8\n",
      "9      9\n",
      "10    10\n",
      "11    11\n",
      "12    12\n",
      "13    13\n",
      "14    14\n",
      "15    15\n",
      "16    16\n",
      "17    17\n",
      "18    18\n",
      "19    19\n",
      "20    20\n",
      "21    21\n",
      "22    22\n",
      "23    23\n",
      "24    24\n",
      "25    25\n",
      "dtype: int32\n",
      "Serie Diccionario\n",
      "a     0\n",
      "b     1\n",
      "c     2\n",
      "d     3\n",
      "e     4\n",
      "f     5\n",
      "g     6\n",
      "h     7\n",
      "i     8\n",
      "j     9\n",
      "k    10\n",
      "l    11\n",
      "m    12\n",
      "n    13\n",
      "o    14\n",
      "p    15\n",
      "q    16\n",
      "r    17\n",
      "s    18\n",
      "t    19\n",
      "u    20\n",
      "v    21\n",
      "w    22\n",
      "x    23\n",
      "y    24\n",
      "z    25\n",
      "dtype: int64\n"
     ]
    }
   ],
   "source": [
    "#11\n",
    "import pandas as pd\n",
    "mylist = list('abcdefghijklmnopqrstuvwxyz')\n",
    "myarr = np.arange(26)\n",
    "mydict = dict(zip(mylist,myarr))\n",
    "\n",
    "#Serie de lista\n",
    "serie_a = pd.Series(mylist) \n",
    "print(f\"Serie Lista\\n{serie_a}\")\n",
    "#Serie de arreglo\n",
    "serie_b = pd.Series(myarr)\n",
    "print(f\"Serie Arreglo\\n{serie_b}\")\n",
    "#Serie de diccionario\n",
    "serie_c = pd.Series(mydict)\n",
    "print(f\"Serie Diccionario\\n{serie_c}\")"
   ]
  },
  {
   "cell_type": "code",
   "execution_count": 31,
   "metadata": {},
   "outputs": [
    {
     "name": "stdout",
     "output_type": "stream",
     "text": [
      "    0\n",
      "a   0\n",
      "b   1\n",
      "c   2\n",
      "d   3\n",
      "e   4\n",
      "f   5\n",
      "g   6\n",
      "h   7\n",
      "i   8\n",
      "j   9\n",
      "k  10\n",
      "l  11\n",
      "m  12\n",
      "n  13\n",
      "o  14\n",
      "p  15\n",
      "q  16\n",
      "r  17\n",
      "s  18\n",
      "t  19\n",
      "u  20\n",
      "v  21\n",
      "w  22\n",
      "x  23\n",
      "y  24\n",
      "z  25\n"
     ]
    }
   ],
   "source": [
    "#12\n",
    "\n",
    "mylist = list('abcdefghijklmnopqrstuvwxyz')\n",
    "myarr = np.arange(26)\n",
    "mydict = dict(zip(mylist,myarr))\n",
    "\n",
    "\n",
    "ser = pd.Series(mydict)\n",
    "df = pd.DataFrame(ser,index=mylist)\n",
    "print(df)"
   ]
  },
  {
   "cell_type": "code",
   "execution_count": 35,
   "metadata": {},
   "outputs": [
    {
     "name": "stdout",
     "output_type": "stream",
     "text": [
      "    0   1\n",
      "0   a   0\n",
      "1   b   1\n",
      "2   c   2\n",
      "3   d   3\n",
      "4   e   4\n",
      "5   f   5\n",
      "6   g   6\n",
      "7   h   7\n",
      "8   i   8\n",
      "9   j   9\n",
      "10  k  10\n",
      "11  l  11\n",
      "12  m  12\n",
      "13  n  13\n",
      "14  o  14\n",
      "15  p  15\n",
      "16  q  16\n",
      "17  r  17\n",
      "18  s  18\n",
      "19  t  19\n",
      "20  u  20\n",
      "21  v  21\n",
      "22  w  22\n",
      "23  x  23\n",
      "24  y  24\n",
      "25  z  25\n"
     ]
    }
   ],
   "source": [
    "#13. \n",
    "ser1 = pd.Series(list('abcdefghijklmnopqrstuvwxyz'))\n",
    "ser2 = pd.Series(np.arange(26))\n",
    "df = pd.DataFrame(ser1)\n",
    "df[1] = ser2\n",
    "\n",
    "print(df)"
   ]
  },
  {
   "cell_type": "code",
   "execution_count": 43,
   "metadata": {},
   "outputs": [
    {
     "name": "stdout",
     "output_type": "stream",
     "text": [
      "a\n",
      "e\n",
      "i\n",
      "o\n",
      "u\n"
     ]
    }
   ],
   "source": [
    "#19.\n",
    "ser = pd.Series(list('abcdefghijklmnopqrstuvwxyz'))\n",
    "pos = [0, 4, 8, 14, 20]\n",
    "\n",
    "print(ser[pos[0]])\n",
    "print(ser[pos[1]])\n",
    "print(ser[pos[2]])\n",
    "print(ser[pos[3]])\n",
    "print(ser[pos[4]])\n"
   ]
  },
  {
   "cell_type": "code",
   "execution_count": 55,
   "metadata": {},
   "outputs": [
    {
     "name": "stdout",
     "output_type": "stream",
     "text": [
      "   A  B\n",
      "0  0  a\n",
      "1  1  b\n",
      "2  2  c\n",
      "3  3  d\n",
      "4  4  e\n"
     ]
    }
   ],
   "source": [
    "ser1_1 = pd.Series(range(5))\n",
    "ser2_2 = pd.Series(list('abcde'))\n",
    "\n",
    "dff = pd.DataFrame({\n",
    "    'A': ser1_1,\n",
    "    'B': ser2_2\n",
    "})\n",
    "\n",
    "print(dff)"
   ]
  },
  {
   "cell_type": "code",
   "execution_count": 40,
   "metadata": {},
   "outputs": [
    {
     "data": {
      "text/html": [
       "<div>\n",
       "<style scoped>\n",
       "    .dataframe tbody tr th:only-of-type {\n",
       "        vertical-align: middle;\n",
       "    }\n",
       "\n",
       "    .dataframe tbody tr th {\n",
       "        vertical-align: top;\n",
       "    }\n",
       "\n",
       "    .dataframe thead th {\n",
       "        text-align: right;\n",
       "    }\n",
       "</style>\n",
       "<table border=\"1\" class=\"dataframe\">\n",
       "  <thead>\n",
       "    <tr style=\"text-align: right;\">\n",
       "      <th></th>\n",
       "      <th>zn</th>\n",
       "    </tr>\n",
       "    <tr>\n",
       "      <th>crim</th>\n",
       "      <th></th>\n",
       "    </tr>\n",
       "  </thead>\n",
       "  <tbody>\n",
       "    <tr>\n",
       "      <th>0.00632</th>\n",
       "      <td>18.0</td>\n",
       "    </tr>\n",
       "    <tr>\n",
       "      <th>0.02731</th>\n",
       "      <td>0.0</td>\n",
       "    </tr>\n",
       "    <tr>\n",
       "      <th>0.02729</th>\n",
       "      <td>0.0</td>\n",
       "    </tr>\n",
       "    <tr>\n",
       "      <th>0.03237</th>\n",
       "      <td>0.0</td>\n",
       "    </tr>\n",
       "    <tr>\n",
       "      <th>0.06905</th>\n",
       "      <td>0.0</td>\n",
       "    </tr>\n",
       "    <tr>\n",
       "      <th>0.02985</th>\n",
       "      <td>0.0</td>\n",
       "    </tr>\n",
       "    <tr>\n",
       "      <th>0.08829</th>\n",
       "      <td>12.5</td>\n",
       "    </tr>\n",
       "    <tr>\n",
       "      <th>0.14455</th>\n",
       "      <td>12.5</td>\n",
       "    </tr>\n",
       "    <tr>\n",
       "      <th>0.21124</th>\n",
       "      <td>12.5</td>\n",
       "    </tr>\n",
       "    <tr>\n",
       "      <th>0.17004</th>\n",
       "      <td>12.5</td>\n",
       "    </tr>\n",
       "  </tbody>\n",
       "</table>\n",
       "</div>"
      ],
      "text/plain": [
       "           zn\n",
       "crim         \n",
       "0.00632  18.0\n",
       "0.02731   0.0\n",
       "0.02729   0.0\n",
       "0.03237   0.0\n",
       "0.06905   0.0\n",
       "0.02985   0.0\n",
       "0.08829  12.5\n",
       "0.14455  12.5\n",
       "0.21124  12.5\n",
       "0.17004  12.5"
      ]
     },
     "execution_count": 40,
     "metadata": {},
     "output_type": "execute_result"
    }
   ],
   "source": [
    "#22\n",
    "path ='C:\\\\Users\\\\jonat\\\\Documents\\\\GitHub\\\\py-vargas-nilve-jonathan-santiago\\\\examen\\\\BostonHousing.csv'\n",
    "dfBH = pd.read_csv(path)\n",
    "\n",
    "columnas = ['crim', 'zn']\n",
    "dfBH = pd.read_csv(path, usecols = columnas, index_col = 'crim')\n",
    "dfBH.head(10)"
   ]
  },
  {
   "cell_type": "code",
   "execution_count": null,
   "metadata": {},
   "outputs": [],
   "source": []
  }
 ],
 "metadata": {
  "kernelspec": {
   "display_name": "Python 3",
   "language": "python",
   "name": "python3"
  },
  "language_info": {
   "codemirror_mode": {
    "name": "ipython",
    "version": 3
   },
   "file_extension": ".py",
   "mimetype": "text/x-python",
   "name": "python",
   "nbconvert_exporter": "python",
   "pygments_lexer": "ipython3",
   "version": "3.7.0"
  }
 },
 "nbformat": 4,
 "nbformat_minor": 2
}
