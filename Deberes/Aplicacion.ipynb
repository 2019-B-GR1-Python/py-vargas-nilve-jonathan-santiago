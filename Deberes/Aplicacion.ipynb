{
 "cells": [
  {
   "cell_type": "code",
   "execution_count": null,
   "metadata": {},
   "outputs": [],
   "source": [
    "%run Restaurante.ipynb\n",
    "\n",
    "def funciones_comida():\n",
    "    entrada = 1\n",
    "    \n",
    "    try:\n",
    "        while entrada < 5:\n",
    "            print(\"\\nRESTAURANTE\")\n",
    "            print(\"1. Mostrar Comidas\")\n",
    "            print(\"2. Ingresar Comida\")\n",
    "            print(\"3. Eliminar Comida\")\n",
    "            print(\"4. Actualizar Comida\")\n",
    "            print(\"5. Salir\")\n",
    "    \n",
    "            entrada = int(input(\"\\nSeleccione una opcion (1-4): \"))\n",
    "            if(entrada == 1):\n",
    "                Restaurante.mostrar_restaurante()\n",
    "            if(entrada == 2):\n",
    "                Restaurante.ingresar_restaurante() \n",
    "            if(entrada == 3):\n",
    "                Restaurante.eliminar_comida()\n",
    "            if(entrada == 4):\n",
    "                Restaurante.actualizar_comida()\n",
    "        \n",
    "    except ValueError as error:\n",
    "        print(\"Digite numeros\")\n",
    "funciones_comida()"
   ]
  },
  {
   "cell_type": "code",
   "execution_count": null,
   "metadata": {},
   "outputs": [],
   "source": []
  },
  {
   "cell_type": "code",
   "execution_count": null,
   "metadata": {},
   "outputs": [],
   "source": []
  }
 ],
 "metadata": {
  "kernelspec": {
   "display_name": "Python 3",
   "language": "python",
   "name": "python3"
  },
  "language_info": {
   "codemirror_mode": {
    "name": "ipython",
    "version": 3
   },
   "file_extension": ".py",
   "mimetype": "text/x-python",
   "name": "python",
   "nbconvert_exporter": "python",
   "pygments_lexer": "ipython3",
   "version": "3.7.0"
  }
 },
 "nbformat": 4,
 "nbformat_minor": 2
}
