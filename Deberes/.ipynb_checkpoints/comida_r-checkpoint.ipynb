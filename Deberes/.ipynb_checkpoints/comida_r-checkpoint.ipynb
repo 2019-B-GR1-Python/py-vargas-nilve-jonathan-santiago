{
 "cells": [
  {
   "cell_type": "code",
   "execution_count": 7,
   "metadata": {},
   "outputs": [],
   "source": [
    "class Comida:\n",
    "    \n",
    "    def ingresar_comida(atributos = []):\n",
    "        atributos.append(input(\"Ingrese Nombre de la Comida: \"))\n",
    "        atributos.append(input(\"Ingrese la descripcion de la comida: \"))\n",
    "        atributos.append(input(\"Ingrese precio de la comida: \"))\n",
    "\n",
    "        return atributos\n"
   ]
  },
  {
   "cell_type": "code",
   "execution_count": null,
   "metadata": {},
   "outputs": [],
   "source": []
  }
 ],
 "metadata": {
  "kernelspec": {
   "display_name": "Python 3",
   "language": "python",
   "name": "python3"
  },
  "language_info": {
   "codemirror_mode": {
    "name": "ipython",
    "version": 3
   },
   "file_extension": ".py",
   "mimetype": "text/x-python",
   "name": "python",
   "nbconvert_exporter": "python",
   "pygments_lexer": "ipython3",
   "version": "3.7.0"
  }
 },
 "nbformat": 4,
 "nbformat_minor": 2
}
