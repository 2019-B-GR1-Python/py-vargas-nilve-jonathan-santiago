{
 "cells": [
  {
   "cell_type": "code",
   "execution_count": 2,
   "metadata": {},
   "outputs": [
    {
     "name": "stdout",
     "output_type": "stream",
     "text": [
      "\n",
      "RESTAURANTE\n",
      "1. Mostrar Comidas\n",
      "2. Ingresar Comida\n",
      "3. Eliminar Comida\n",
      "4. Actualizar Comida\n",
      "5. Salir\n",
      "\n",
      "Seleccione una opcion (1-4): 1\n",
      "  RESTAURANTE UBICACION RESTAURANTE PLATOS DESCRIPCION PLATO  PRECIO PLATO\n",
      "0        DDDD                  DDDD  FRDES              DFCV         222.0\n",
      "1           A                     B      C                 D           NaN\n",
      "2           A                     B      C                 D           1.0\n",
      "\n",
      "RESTAURANTE\n",
      "1. Mostrar Comidas\n",
      "2. Ingresar Comida\n",
      "3. Eliminar Comida\n",
      "4. Actualizar Comida\n",
      "5. Salir\n",
      "\n",
      "Seleccione una opcion (1-4): 4\n",
      "Ingrese nombre de la comida a Actualizar: FRDES\n",
      "Ingrese Nombre del Restaurante: POLITECNICO\n",
      "Ingrese la ubiacion del Restaurante: FRENTE A LA EPN\n",
      "Ingrese Nombre de la Comida: FRDES\n",
      "Ingrese la descripcion de la comida: DFCVD\n",
      "Ingrese precio de la comida: 23\n",
      "Se actualizo correctamente\n",
      "No existe la comida: FRDES\n",
      "No existe la comida: FRDES\n",
      "\n",
      "RESTAURANTE\n",
      "1. Mostrar Comidas\n",
      "2. Ingresar Comida\n",
      "3. Eliminar Comida\n",
      "4. Actualizar Comida\n",
      "5. Salir\n",
      "\n",
      "Seleccione una opcion (1-4): 1\n",
      "   RESTAURANTE UBICACION RESTAURANTE PLATOS DESCRIPCION PLATO  PRECIO PLATO\n",
      "0  POLITECNICO       FRENTE A LA EPN  FRDES             DFCVD          23.0\n",
      "1            A                     B      C                 D           NaN\n",
      "2            A                     B      C                 D           1.0\n",
      "\n",
      "RESTAURANTE\n",
      "1. Mostrar Comidas\n",
      "2. Ingresar Comida\n",
      "3. Eliminar Comida\n",
      "4. Actualizar Comida\n",
      "5. Salir\n",
      "\n",
      "Seleccione una opcion (1-4): 5\n"
     ]
    }
   ],
   "source": [
    "%run Restaurante.ipynb\n",
    "\n",
    "def funciones_comida():\n",
    "    entrada = 1\n",
    "    \n",
    "    try:\n",
    "        while entrada < 5:\n",
    "            print(\"\\nRESTAURANTE\")\n",
    "            print(\"1. Mostrar Comidas\")\n",
    "            print(\"2. Ingresar Comida\")\n",
    "            print(\"3. Eliminar Comida\")\n",
    "            print(\"4. Actualizar Comida\")\n",
    "            print(\"5. Salir\")\n",
    "    \n",
    "            entrada = int(input(\"\\nSeleccione una opcion (1-4): \"))\n",
    "            if(entrada == 1):\n",
    "                Restaurante.mostrar_restaurante()\n",
    "            if(entrada == 2):\n",
    "                Restaurante.ingresar_restaurante() \n",
    "            if(entrada == 3):\n",
    "                Restaurante.eliminar_comida()\n",
    "            if(entrada == 4):\n",
    "                Restaurante.actualizar_comida()\n",
    "        \n",
    "    except ValueError as error:\n",
    "        print(\"Digite numeros\")\n",
    "funciones_comida()"
   ]
  },
  {
   "cell_type": "code",
   "execution_count": null,
   "metadata": {},
   "outputs": [],
   "source": []
  },
  {
   "cell_type": "code",
   "execution_count": null,
   "metadata": {},
   "outputs": [],
   "source": []
  }
 ],
 "metadata": {
  "kernelspec": {
   "display_name": "Python 3",
   "language": "python",
   "name": "python3"
  },
  "language_info": {
   "codemirror_mode": {
    "name": "ipython",
    "version": 3
   },
   "file_extension": ".py",
   "mimetype": "text/x-python",
   "name": "python",
   "nbconvert_exporter": "python",
   "pygments_lexer": "ipython3",
   "version": "3.7.0"
  }
 },
 "nbformat": 4,
 "nbformat_minor": 2
}
